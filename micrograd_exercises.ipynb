{
  "cells": [
    {
      "attachments": {},
      "cell_type": "markdown",
      "metadata": {
        "id": "JnGHatCI51JP"
      },
      "source": [
        "# micrograd exercises\n",
        "\n",
        "1. watch the [micrograd video](https://www.youtube.com/watch?v=VMj-3S1tku0) on YouTube\n",
        "2. come back and complete these exercises to level up :)"
      ]
    },
    {
      "attachments": {},
      "cell_type": "markdown",
      "metadata": {
        "id": "OFt6NKOz6iBZ"
      },
      "source": [
        "## section 1: derivatives"
      ]
    },
    {
      "cell_type": "code",
      "execution_count": 3,
      "metadata": {
        "id": "3Jx9fCXl5xHd"
      },
      "outputs": [
        {
          "name": "stdout",
          "output_type": "stream",
          "text": [
            "6.336362190988558\n"
          ]
        }
      ],
      "source": [
        "# here is a mathematical expression that takes 3 inputs and produces one output\n",
        "from math import sin, cos\n",
        "\n",
        "def f(a, b, c):\n",
        "  return -a**3 + sin(3*b) - 1.0/c + b**2.5 - a**0.5\n",
        "\n",
        "print(f(2, 3, 4))"
      ]
    },
    {
      "cell_type": "code",
      "execution_count": 4,
      "metadata": {
        "id": "qXaH59eL9zxf"
      },
      "outputs": [
        {
          "name": "stdout",
          "output_type": "stream",
          "text": [
            "OK for dim 0: expected -12.353553390593273, yours returns -12.353553390593273\n",
            "OK for dim 1: expected 10.25699027111255, yours returns 10.25699027111255\n",
            "OK for dim 2: expected 0.0625, yours returns 0.0625\n"
          ]
        }
      ],
      "source": [
        "# write the function df that returns the analytical gradient of f\n",
        "# i.e. use your skills from calculus to take the derivative, then implement the formula\n",
        "# if you do not calculus then feel free to ask wolframalpha, e.g.:\n",
        "# https://www.wolframalpha.com/input?i=d%2Fda%28sin%283*a%29%29%29\n",
        "\n",
        "import math\n",
        "\n",
        "def gradf(a, b, c):\n",
        "    df_da = -3 * a**2 - 1 / (2 * math.sqrt(a))\n",
        "    df_db = 3 * math.cos(3 * b) + 5/2 * b**1.5\n",
        "    df_dc = 1 / c**2\n",
        "    return [df_da, df_db, df_dc]\n",
        "\n",
        "# expected answer is the list of \n",
        "ans = [-12.353553390593273, 10.25699027111255, 0.0625]\n",
        "yours = gradf(2, 3, 4)\n",
        "for dim in range(3):\n",
        "  ok = 'OK' if abs(yours[dim] - ans[dim]) < 1e-5 else 'WRONG!'\n",
        "  print(f\"{ok} for dim {dim}: expected {ans[dim]}, yours returns {yours[dim]}\")\n"
      ]
    },
    {
      "cell_type": "code",
      "execution_count": 3,
      "metadata": {
        "id": "_27n-KTA9Qla"
      },
      "outputs": [
        {
          "name": "stdout",
          "output_type": "stream",
          "text": [
            "OK for dim 0: expected -12.353553390593273, yours returns -12.353559348809995\n",
            "OK for dim 1: expected 10.25699027111255, yours returns 10.256991666679482\n",
            "OK for dim 2: expected 0.0625, yours returns 0.062499984743169534\n"
          ]
        }
      ],
      "source": [
        "# now estimate the gradient numerically without any calculus, using\n",
        "# the approximation we used in the video.\n",
        "# you should not call the function df from the last cell\n",
        "\n",
        "# -----------\n",
        "# -----------\n",
        "def gradf(a, b, c):\n",
        "    epsilon = 1e-6\n",
        "    df_da = (f(a + epsilon, b, c) - f(a, b, c)) / epsilon\n",
        "    df_db = (f(a, b + epsilon, c) - f(a, b, c)) / epsilon\n",
        "    df_dc = (f(a, b, c + epsilon) - f(a, b, c)) / epsilon\n",
        "    return [df_da, df_db, df_dc]\n",
        "\n",
        "numerical_grad = gradf(2, 3, 4)\n",
        "for dim in range(3):\n",
        "  ok = 'OK' if abs(numerical_grad[dim] - ans[dim]) < 1e-5 else 'WRONG!'\n",
        "  print(f\"{ok} for dim {dim}: expected {ans[dim]}, yours returns {numerical_grad[dim]}\")\n"
      ]
    },
    {
      "cell_type": "code",
      "execution_count": 5,
      "metadata": {
        "id": "BUqsGb5o_h2P"
      },
      "outputs": [
        {
          "name": "stdout",
          "output_type": "stream",
          "text": [
            "OK for dim 0: expected -12.353553390593273, yours returns -12.353553391353245\n",
            "OK for dim 1: expected 10.25699027111255, yours returns 10.256990273571631\n",
            "OK for dim 2: expected 0.0625, yours returns 0.06250000028629188\n"
          ]
        }
      ],
      "source": [
        "# there is an alternative formula that provides a much better numerical \n",
        "# approximation to the derivative of a function.\n",
        "# learn about it here: https://en.wikipedia.org/wiki/Symmetric_derivative\n",
        "# implement it. confirm that for the same step size h this version gives a\n",
        "# better approximation.\n",
        "\n",
        "# -----------\n",
        "# -----------\n",
        "\n",
        "def gradf(a, b, c):\n",
        "    epsilon = 1e-6\n",
        "    df_da = (f(a + epsilon, b, c) - f(a - epsilon, b, c)) / (2 * epsilon)\n",
        "    df_db = (f(a, b + epsilon, c) - f(a, b - epsilon, c)) / (2 * epsilon)\n",
        "    df_dc = (f(a, b, c + epsilon) - f(a, b, c - epsilon)) / (2 * epsilon)\n",
        "    return [df_da, df_db, df_dc]\n",
        "\n",
        "numerical_grad2 = gradf(2, 3, 4)\n",
        "for dim in range(3):\n",
        "  ok = 'OK' if abs(numerical_grad2[dim] - ans[dim]) < 1e-5 else 'WRONG!'\n",
        "  print(f\"{ok} for dim {dim}: expected {ans[dim]}, yours returns {numerical_grad2[dim]}\")\n"
      ]
    },
    {
      "attachments": {},
      "cell_type": "markdown",
      "metadata": {
        "id": "tklF9s_4AtlI"
      },
      "source": [
        "## section 2: support for softmax"
      ]
    },
    {
      "cell_type": "code",
      "execution_count": 6,
      "metadata": {
        "id": "nAPe_RVrCTeO"
      },
      "outputs": [],
      "source": [
        "# Value class starter code, with many functions taken out\n",
        "from math import exp, log\n",
        "\n",
        "\n",
        "class Value:\n",
        "    def __init__(self, data, _children=(), _op=''):\n",
        "        self.data = data\n",
        "        self.grad = 0\n",
        "        self._backward = lambda: None\n",
        "        self._prev = set(_children)\n",
        "        self._op = _op\n",
        "\n",
        "    @staticmethod\n",
        "    def create_value(other):\n",
        "        return other if isinstance(other, Value) else Value(other)\n",
        "\n",
        "    def __add__(self, other):\n",
        "        # Create a new Value object with the sum of the data from self and other\n",
        "        other = self.create_value(other)\n",
        "        out = Value(self.data + other.data, (self, other), '+')\n",
        "        \n",
        "        def _backward():\n",
        "            # Compute gradients for self and other based on the gradient of the output\n",
        "            self.grad += out.grad\n",
        "            other.grad += out.grad\n",
        "        \n",
        "        out._backward = _backward\n",
        "        return out\n",
        "\n",
        "    def __mul__(self, other):\n",
        "        # Create a new Value object with the product of the data from self and other\n",
        "        other = self.create_value(other)\n",
        "        out = Value(self.data * other.data, (self, other), '*')\n",
        "        \n",
        "        def _backward():\n",
        "            # Compute gradients for self and other based on the gradient of the output\n",
        "            self.grad += other.data * out.grad\n",
        "            other.grad += self.data * out.grad\n",
        "        \n",
        "        out._backward = _backward\n",
        "        return out\n",
        "    \n",
        "    def exp(self):\n",
        "        out = Value(exp(self.data), (self,), 'exp')\n",
        "        \n",
        "        def _backward():\n",
        "            self.grad += exp(self.data) * out.grad\n",
        "        out._backward = _backward\n",
        "        return out\n",
        "\n",
        "    def log(self):\n",
        "        out = Value(log(self.data), (self,), 'log')\n",
        "    \n",
        "        def _backward():\n",
        "            self.grad += (1.0 / self.data) * out.grad\n",
        "        out._backward = _backward\n",
        "        return out\n",
        "    def __pow__(self, other):\n",
        "        assert isinstance(other, (int, float)), \"only supporting int/float powers for now\"\n",
        "        # Create a new Value object with the power of self.data raised to the other value\n",
        "        out = Value(self.data**other, (self,), f'**{other}')\n",
        "        \n",
        "        def _backward():\n",
        "            # Compute gradient for self based on the gradient of the output\n",
        "            self.grad += (other * self.data**(other-1)) * out.grad\n",
        "        \n",
        "        out._backward = _backward\n",
        "        return out\n",
        "\n",
        "    def relu(self):\n",
        "        # Apply the ReLU activation function to self.data\n",
        "        out = Value(0 if self.data < 0 else self.data, (self,), 'ReLU')\n",
        "        \n",
        "        def _backward():\n",
        "            # Compute gradient for self based on the gradient of the output\n",
        "            self.grad += (out.data > 0) * out.grad\n",
        "        \n",
        "        out._backward = _backward\n",
        "        return out\n",
        "\n",
        "    def backward(self):\n",
        "        # Perform backpropagation to compute gradients for all values in the computation graph\n",
        "        topo = []\n",
        "        visited = set()\n",
        "        \n",
        "        def build_topo(v):\n",
        "            if v not in visited:\n",
        "                visited.add(v)\n",
        "                for child in v._prev:\n",
        "                    build_topo(child)\n",
        "                topo.append(v)\n",
        "        \n",
        "        build_topo(self)\n",
        "        self.grad = 1\n",
        "        \n",
        "        for v in reversed(topo):\n",
        "            v._backward()\n",
        "\n",
        "    def __neg__(self): \n",
        "        # Negate the value of self\n",
        "        return self * -1\n",
        "\n",
        "    def __radd__(self, other): \n",
        "        # Add self to the other value\n",
        "        return self + other\n",
        "\n",
        "    def __sub__(self, other): \n",
        "        # Subtract other value from self\n",
        "        return self + (-other)\n",
        "\n",
        "    def __rsub__(self, other): \n",
        "        # Subtract self from the other value\n",
        "        return other + (-self)\n",
        "\n",
        "    def __rmul__(self, other): \n",
        "        # Multiply self with the other value\n",
        "        return self * other\n",
        "\n",
        "    def __truediv__(self, other): \n",
        "        # Divide self by the other value\n",
        "        return self * other**-1\n",
        "\n",
        "    def __rtruediv__(self, other): \n",
        "        # Divide the other value by self\n",
        "        return other * self**-1\n",
        "    \n",
        "\n",
        "    def __repr__(self):\n",
        "        # Return a string representation of the Value object\n",
        "        return f\"Value(data={self.data}, grad={self.grad})\"\n"
      ]
    },
    {
      "cell_type": "code",
      "execution_count": 7,
      "metadata": {
        "id": "VgWvwVQNAvnI"
      },
      "outputs": [
        {
          "name": "stdout",
          "output_type": "stream",
          "text": [
            "2.1755153626167147\n",
            "OK for dim 0: expected 0.041772570515350445, yours returns 0.041772570515350445\n",
            "OK for dim 1: expected 0.8390245074625319, yours returns 0.8390245074625319\n",
            "OK for dim 2: expected 0.005653302662216329, yours returns 0.005653302662216329\n",
            "OK for dim 3: expected -0.8864503806400986, yours returns -0.8864503806400986\n"
          ]
        }
      ],
      "source": [
        "# without referencing our code/video __too__ much, make this cell work\n",
        "# you'll have to implement (in some cases re-implemented) a number of functions\n",
        "# of the Value object, similar to what we've seen in the video.\n",
        "# instead of the squared error loss this implements the negative log likelihood\n",
        "# loss, which is very often used in classification.\n",
        "\n",
        "# this is the softmax function\n",
        "# https://en.wikipedia.org/wiki/Softmax_function\n",
        "def softmax(logits):\n",
        "  counts = [logit.exp() for logit in logits]\n",
        "  denominator = sum(counts)\n",
        "  out = [c / denominator for c in counts]\n",
        "  return out\n",
        "\n",
        "# this is the negative log likelihood loss function, pervasive in classification\n",
        "logits = [Value(0.0), Value(3.0), Value(-2.0), Value(1.0)]\n",
        "probs = softmax(logits)\n",
        "loss = -probs[3].log() # dim 3 acts as the label for this input example\n",
        "loss.backward()\n",
        "print(loss.data)\n",
        "\n",
        "ans = [0.041772570515350445, 0.8390245074625319, 0.005653302662216329, -0.8864503806400986]\n",
        "for dim in range(4):\n",
        "  ok = 'OK' if abs(logits[dim].grad - ans[dim]) < 1e-5 else 'WRONG!'\n",
        "  print(f\"{ok} for dim {dim}: expected {ans[dim]}, yours returns {logits[dim].grad}\")\n"
      ]
    },
    {
      "cell_type": "code",
      "execution_count": 15,
      "metadata": {
        "id": "q7ca1SVAGG1S"
      },
      "outputs": [
        {
          "name": "stdout",
          "output_type": "stream",
          "text": [
            "probs: tensor([0.0418, 0.8390, 0.0057, 0.1135], grad_fn=<SelectBackward0>)\n",
            "OK for dim 0: Torch gradient: 0.041772566735744476, Your gradient: 0.041772566735744476\n",
            "OK for dim 1: Torch gradient: 0.8390244841575623, Your gradient: 0.8390244841575623\n",
            "OK for dim 2: Torch gradient: 0.005653302650898695, Your gradient: 0.005653302650898695\n",
            "OK for dim 3: Torch gradient: -0.8864504098892212, Your gradient: -0.8864504098892212\n"
          ]
        }
      ],
      "source": [
        "import torch\n",
        "\n",
        "logits = torch.tensor([[0.0, 3.0, -2.0, 1.0]], requires_grad=True)\n",
        "probs = torch.softmax(logits, dim=1)[0]\n",
        "print(f\"probs: {probs}\")\n",
        "loss = -probs[3].log()\n",
        "loss.backward()\n",
        "\n",
        "# Compare the gradients with the gradients from your implementation\n",
        "for i in range(4):\n",
        "    ok = 'OK' if abs(logits.grad[0][i].item() - logits.grad[0][i].item()) < 1e-5 else 'WRONG!'\n",
        "    print(f\"{ok} for dim {i}: Torch gradient: {logits.grad[0][i].item()}, Your gradient: {logits.grad[0][i].item()}\")\n"
      ]
    }
  ],
  "metadata": {
    "colab": {
      "provenance": []
    },
    "kernelspec": {
      "display_name": "Python 3",
      "name": "python3"
    },
    "language_info": {
      "codemirror_mode": {
        "name": "ipython",
        "version": 3
      },
      "file_extension": ".py",
      "mimetype": "text/x-python",
      "name": "python",
      "nbconvert_exporter": "python",
      "pygments_lexer": "ipython3",
      "version": "3.10.10"
    }
  },
  "nbformat": 4,
  "nbformat_minor": 0
}
